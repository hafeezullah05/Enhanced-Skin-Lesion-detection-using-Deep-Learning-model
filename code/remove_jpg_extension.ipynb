{
 "cells": [
  {
   "cell_type": "code",
   "execution_count": 1,
   "metadata": {},
   "outputs": [],
   "source": [
    "import os\n",
    "from tqdm import tqdm\n",
    "from PIL import Image, UnidentifiedImageError"
   ]
  },
  {
   "cell_type": "code",
   "execution_count": 2,
   "metadata": {},
   "outputs": [
    {
     "name": "stderr",
     "output_type": "stream",
     "text": [
      "Renaming images: 100%|██████████| 33126/33126 [00:13<00:00, 2501.82file/s]"
     ]
    },
    {
     "name": "stdout",
     "output_type": "stream",
     "text": [
      "All images have been renamed successfully.\n"
     ]
    },
    {
     "name": "stderr",
     "output_type": "stream",
     "text": [
      "\n"
     ]
    }
   ],
   "source": [
    "import os\n",
    "\n",
    "def remove_extension_from_images(folder_path):\n",
    "    # Get list of files with .jpg extension\n",
    "    jpg_files = [f for f in os.listdir(folder_path) if f.lower().endswith('.jpg')]\n",
    "    total_files = len(jpg_files)\n",
    "    \n",
    "    # Progress bar for renaming files\n",
    "    with tqdm(total=total_files, desc=\"Renaming images\", unit=\"file\") as pbar:\n",
    "        for filename in jpg_files:\n",
    "            # Remove the extension\n",
    "            new_filename = filename.rsplit('.', 1)[0]\n",
    "            old_file_path = os.path.join(folder_path, filename)\n",
    "            new_file_path = os.path.join(folder_path, new_filename)\n",
    "            try:\n",
    "                os.rename(old_file_path, new_file_path)\n",
    "                pbar.update(1)\n",
    "            except Exception as e:\n",
    "                print(f'Error renaming {filename}: {e}')\n",
    "                pbar.update(1)\n",
    "\n",
    "    print(\"All images have been renamed successfully.\")\n",
    "\n",
    "# Path to the folder containing the .jpg files\n",
    "BASE_DIR = os.path.join(os.path.expanduser('~'), 'Desktop')\n",
    "IMAGE_DIR = os.path.join(BASE_DIR, 'Thesis_Hafeez', 'Dataset', 'Train_JPEG', 'JPEG')\n",
    "remove_extension_from_images(IMAGE_DIR)\n"
   ]
  },
  {
   "cell_type": "code",
   "execution_count": null,
   "metadata": {},
   "outputs": [],
   "source": [
    "# Path to your dataset\n",
    "BASE_DIR = os.path.join(os.path.expanduser('~'), 'Desktop')\n",
    "IMAGE_DIR = os.path.join(BASE_DIR, 'Thesis_Hafeez', 'Dataset', 'Train_JPEG', 'JPEG')\n",
    "\n",
    "def check_corrupted_images(image_dir):\n",
    "    corrupted_images = []\n",
    "    image_count = 0\n",
    "    \n",
    "    # Loop through all the files in the image directory\n",
    "    for root, dirs, files in os.walk(image_dir):\n",
    "        for file in files:\n",
    "            if file.endswith(('.jpeg', '.jpg', '.png')):  # Add other formats if needed\n",
    "                image_path = os.path.join(root, file)\n",
    "                try:\n",
    "                    # Try to open the image\n",
    "                    img = Image.open(image_path)\n",
    "                    img.verify()  # Verify if the image is not corrupted\n",
    "                except (UnidentifiedImageError, FileNotFoundError, OSError) as e:\n",
    "                    # If an image is corrupted or unreadable, catch the error\n",
    "                    corrupted_images.append(image_path)\n",
    "                    print(f\"Corrupted image found: {image_path}\")\n",
    "                finally:\n",
    "                    image_count += 1\n",
    "    \n",
    "    # Print results\n",
    "    print(f\"\\nChecked {image_count} images.\")\n",
    "    if corrupted_images:\n",
    "        print(f\"Found {len(corrupted_images)} corrupted images.\")\n",
    "    else:\n",
    "        print(\"No corrupted images found!\")\n",
    "    \n",
    "    return corrupted_images\n",
    "\n",
    "# Run the function to check for corrupted images\n",
    "corrupted_images = check_corrupted_images(IMAGE_DIR)\n"
   ]
  },
  {
   "cell_type": "markdown",
   "metadata": {},
   "source": [
    "# Total images in RAW dataset before any augmentation"
   ]
  },
  {
   "cell_type": "code",
   "execution_count": 1,
   "metadata": {},
   "outputs": [
    {
     "name": "stdout",
     "output_type": "stream",
     "text": [
      "Total number of images in '/Users/hafeez/Desktop/Thesis_Hafeez/Dataset/Train_JPEG/JPEG': 33127\n"
     ]
    }
   ],
   "source": [
    "import os\n",
    "\n",
    "BASE_DIR = os.path.join(os.path.expanduser('~'), 'Desktop')\n",
    "IMAGE_DIR = os.path.join(BASE_DIR, 'Thesis_Hafeez', 'Dataset', 'Train_JPEG', 'JPEG')\n",
    "\n",
    "# Define function to count the number of files in the directory\n",
    "def count_images(directory):\n",
    "    image_count = len([file for file in os.listdir(directory) if os.path.isfile(os.path.join(directory, file))])\n",
    "    return image_count\n",
    "\n",
    "# Count images in the IMAGE_DIR\n",
    "total_images = count_images(IMAGE_DIR)\n",
    "print(f\"Total number of images in '{IMAGE_DIR}': {total_images}\")\n"
   ]
  },
  {
   "cell_type": "markdown",
   "metadata": {},
   "source": [
    "# Total images after online augmentation"
   ]
  },
  {
   "cell_type": "code",
   "execution_count": null,
   "metadata": {},
   "outputs": [],
   "source": [
    "import os\n",
    "\n",
    "BASE_DIR = os.path.join(os.path.expanduser('~'), 'Desktop')\n",
    "IMAGE_DIR = os.path.join(BASE_DIR, 'Thesis_Hafeez', 'Dataset', 'Train_JPEG', 'JPEG')\n",
    "\n",
    "# Define function to count the number of files in the directory\n",
    "def count_images(directory):\n",
    "    image_count = len([file for file in os.listdir(directory) if os.path.isfile(os.path.join(directory, file))])\n",
    "    return image_count\n",
    "\n",
    "# Count images in the IMAGE_DIR\n",
    "total_images = count_images(IMAGE_DIR)\n",
    "print(f\"Total number of images in '{IMAGE_DIR}': {total_images}\")"
   ]
  }
 ],
 "metadata": {
  "kernelspec": {
   "display_name": "env",
   "language": "python",
   "name": "python3"
  },
  "language_info": {
   "codemirror_mode": {
    "name": "ipython",
    "version": 3
   },
   "file_extension": ".py",
   "mimetype": "text/x-python",
   "name": "python",
   "nbconvert_exporter": "python",
   "pygments_lexer": "ipython3",
   "version": "3.8.16"
  }
 },
 "nbformat": 4,
 "nbformat_minor": 2
}
