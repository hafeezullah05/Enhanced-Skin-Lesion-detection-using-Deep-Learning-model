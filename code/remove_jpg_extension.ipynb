{
 "cells": [
  {
   "cell_type": "code",
   "execution_count": 1,
   "metadata": {},
   "outputs": [],
   "source": [
    "import os\n",
    "from PIL import Image, UnidentifiedImageError"
   ]
  },
  {
   "cell_type": "code",
   "execution_count": 1,
   "metadata": {},
   "outputs": [],
   "source": [
    "def remove_extension_from_images(folder_path):\n",
    "    for filename in os.listdir(folder_path):\n",
    "        # Check for .jpg extension\n",
    "        if filename.lower().endswith('.jpg'):\n",
    "            # Remove the extension\n",
    "            new_filename = filename.rsplit('.', 1)[0]\n",
    "            old_file_path = os.path.join(folder_path, filename)\n",
    "            new_file_path = os.path.join(folder_path, new_filename)\n",
    "            try:\n",
    "                os.rename(old_file_path, new_file_path)\n",
    "                print(f'Renamed: {filename} -> {new_filename}')\n",
    "            except Exception as e:\n",
    "                print(f'Error renaming {filename}: {e}')\n",
    "\n",
    "# Path to the folder containing the .jpg files\n",
    "folder_path = '/Users/hafeez/Desktop/Thesis_Hafeez/Dataset/Train_JPEG/JPEG'\n",
    "remove_extension_from_images(folder_path)\n"
   ]
  },
  {
   "cell_type": "code",
   "execution_count": 2,
   "metadata": {},
   "outputs": [
    {
     "name": "stdout",
     "output_type": "stream",
     "text": [
      "\n",
      "Checked 0 images.\n",
      "No corrupted images found!\n"
     ]
    }
   ],
   "source": [
    "# Path to your dataset\n",
    "BASE_DIR = os.path.join(os.path.expanduser('~'), 'Desktop')\n",
    "IMAGE_DIR = os.path.join(BASE_DIR, 'Thesis_Hafeez', 'Dataset', 'Train_JPEG', 'JPEG')\n",
    "\n",
    "def check_corrupted_images(image_dir):\n",
    "    corrupted_images = []\n",
    "    image_count = 0\n",
    "    \n",
    "    # Loop through all the files in the image directory\n",
    "    for root, dirs, files in os.walk(image_dir):\n",
    "        for file in files:\n",
    "            if file.endswith(('.jpeg', '.jpg', '.png')):  # Add other formats if needed\n",
    "                image_path = os.path.join(root, file)\n",
    "                try:\n",
    "                    # Try to open the image\n",
    "                    img = Image.open(image_path)\n",
    "                    img.verify()  # Verify if the image is not corrupted\n",
    "                except (UnidentifiedImageError, FileNotFoundError, OSError) as e:\n",
    "                    # If an image is corrupted or unreadable, catch the error\n",
    "                    corrupted_images.append(image_path)\n",
    "                    print(f\"Corrupted image found: {image_path}\")\n",
    "                finally:\n",
    "                    image_count += 1\n",
    "    \n",
    "    # Print results\n",
    "    print(f\"\\nChecked {image_count} images.\")\n",
    "    if corrupted_images:\n",
    "        print(f\"Found {len(corrupted_images)} corrupted images.\")\n",
    "    else:\n",
    "        print(\"No corrupted images found!\")\n",
    "    \n",
    "    return corrupted_images\n",
    "\n",
    "# Run the function to check for corrupted images\n",
    "corrupted_images = check_corrupted_images(IMAGE_DIR)\n"
   ]
  }
 ],
 "metadata": {
  "kernelspec": {
   "display_name": "env",
   "language": "python",
   "name": "python3"
  },
  "language_info": {
   "codemirror_mode": {
    "name": "ipython",
    "version": 3
   },
   "file_extension": ".py",
   "mimetype": "text/x-python",
   "name": "python",
   "nbconvert_exporter": "python",
   "pygments_lexer": "ipython3",
   "version": "3.8.16"
  }
 },
 "nbformat": 4,
 "nbformat_minor": 2
}
