{
 "cells": [
  {
   "cell_type": "code",
   "execution_count": 1,
   "metadata": {},
   "outputs": [],
   "source": [
    "import os\n",
    "import pandas as pd\n",
    "import shutil\n",
    "from tqdm import tqdm"
   ]
  },
  {
   "cell_type": "code",
   "execution_count": 2,
   "metadata": {},
   "outputs": [
    {
     "name": "stderr",
     "output_type": "stream",
     "text": [
      "Moving Images: 100%|██████████| 690/690 [00:02<00:00, 255.65it/s]\n"
     ]
    }
   ],
   "source": [
    "\n",
    "# Paths\n",
    "csv_path = '/Users/hafeez/Desktop/Thesis_Hafeez/Dataset/Predictions/ISIC_2020_Test_Metadata.csv'\n",
    "image_dir = '/Users/hafeez/Desktop/Thesis_Hafeez/Dataset/Predictions/ISIC_2020_Test/'\n",
    "\n",
    "# Read CSV file\n",
    "df = pd.read_csv(csv_path)\n",
    "\n",
    "# Create a list of unique patient IDs\n",
    "patient_ids = df['patient'].unique()\n",
    "\n",
    "# Initialize a set to keep track of processed patient IDs\n",
    "processed_patients = set()\n",
    "\n",
    "# Initialize tqdm progress bar\n",
    "tqdm.pandas()\n",
    "\n",
    "# Function to move images for each patient\n",
    "def move_patient_images(patient_id):\n",
    "    # Filter the rows for the current patient\n",
    "    patient_images = df[df['patient'] == patient_id]['image_name'].tolist()\n",
    "    \n",
    "    # Create a folder for the patient if it doesn't exist\n",
    "    patient_folder = os.path.join(image_dir, patient_id)\n",
    "    if not os.path.exists(patient_folder):\n",
    "        os.makedirs(patient_folder)\n",
    "    \n",
    "    # Move each image for the patient to their respective folder\n",
    "    for image_name in patient_images:\n",
    "        image_path = os.path.join(image_dir, image_name)\n",
    "        if os.path.exists(image_path):\n",
    "            shutil.move(image_path, os.path.join(patient_folder, image_name))\n",
    "    \n",
    "    # Add the patient to processed set\n",
    "    processed_patients.add(patient_id)\n",
    "\n",
    "# Iterate through each unique patient ID and move their images\n",
    "for patient_id in tqdm(patient_ids, desc=\"Moving Images\"):\n",
    "    if patient_id not in processed_patients:\n",
    "        move_patient_images(patient_id)\n"
   ]
  }
 ],
 "metadata": {
  "kernelspec": {
   "display_name": "env",
   "language": "python",
   "name": "python3"
  },
  "language_info": {
   "codemirror_mode": {
    "name": "ipython",
    "version": 3
   },
   "file_extension": ".py",
   "mimetype": "text/x-python",
   "name": "python",
   "nbconvert_exporter": "python",
   "pygments_lexer": "ipython3",
   "version": "3.8.16"
  }
 },
 "nbformat": 4,
 "nbformat_minor": 4
}
